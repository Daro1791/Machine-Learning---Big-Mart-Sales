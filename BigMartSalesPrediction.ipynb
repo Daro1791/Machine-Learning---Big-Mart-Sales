{
 "cells": [
  {
   "cell_type": "code",
   "execution_count": 1,
   "metadata": {},
   "outputs": [],
   "source": [
    "# The goal of this project is to predict the sales of BigMart for its various points of sales  using Machine Learning. \n",
    "# We are going to use the data from Kaggle page (https://www.kaggle.com/brijbhushannanda1979/bigmart-sales-data)."
   ]
  },
  {
   "cell_type": "code",
   "execution_count": 2,
   "metadata": {},
   "outputs": [],
   "source": [
    "# let’s import the libraries we are going to use\n",
    "import numpy as np\n",
    "import pandas as pd\n",
    "import matplotlib.pyplot as plt\n",
    "import seaborn as sns\n",
    "from sklearn.preprocessing import LabelEncoder\n",
    "from sklearn.model_selection import train_test_split\n",
    "from xgboost import XGBRegressor\n",
    "from sklearn import metrics"
   ]
  },
  {
   "cell_type": "code",
   "execution_count": 3,
   "metadata": {},
   "outputs": [],
   "source": [
    "# Loading the dataset using pandas\n",
    "df = pd.read_csv('train.csv')"
   ]
  },
  {
   "cell_type": "code",
   "execution_count": 4,
   "metadata": {},
   "outputs": [
    {
     "name": "stdout",
     "output_type": "stream",
     "text": [
      "df\n",
      "Head\n",
      "  Item_Identifier  Item_Weight Item_Fat_Content  Item_Visibility  \\\n",
      "0           FDA15         9.30          Low Fat         0.016047   \n",
      "1           DRC01         5.92          Regular         0.019278   \n",
      "2           FDN15        17.50          Low Fat         0.016760   \n",
      "3           FDX07        19.20          Regular         0.000000   \n",
      "4           NCD19         8.93          Low Fat         0.000000   \n",
      "\n",
      "               Item_Type  Item_MRP Outlet_Identifier  \\\n",
      "0                  Dairy  249.8092            OUT049   \n",
      "1            Soft Drinks   48.2692            OUT018   \n",
      "2                   Meat  141.6180            OUT049   \n",
      "3  Fruits and Vegetables  182.0950            OUT010   \n",
      "4              Household   53.8614            OUT013   \n",
      "\n",
      "   Outlet_Establishment_Year Outlet_Size Outlet_Location_Type  \\\n",
      "0                       1999      Medium               Tier 1   \n",
      "1                       2009      Medium               Tier 3   \n",
      "2                       1999      Medium               Tier 1   \n",
      "3                       1998         NaN               Tier 3   \n",
      "4                       1987        High               Tier 3   \n",
      "\n",
      "         Outlet_Type  Item_Outlet_Sales  \n",
      "0  Supermarket Type1          3735.1380  \n",
      "1  Supermarket Type2           443.4228  \n",
      "2  Supermarket Type1          2097.2700  \n",
      "3      Grocery Store           732.3800  \n",
      "4  Supermarket Type1           994.7052  \n",
      "Tail\n",
      "     Item_Identifier  Item_Weight Item_Fat_Content  Item_Visibility  \\\n",
      "8518           FDF22        6.865          Low Fat         0.056783   \n",
      "8519           FDS36        8.380          Regular         0.046982   \n",
      "8520           NCJ29       10.600          Low Fat         0.035186   \n",
      "8521           FDN46        7.210          Regular         0.145221   \n",
      "8522           DRG01       14.800          Low Fat         0.044878   \n",
      "\n",
      "               Item_Type  Item_MRP Outlet_Identifier  \\\n",
      "8518         Snack Foods  214.5218            OUT013   \n",
      "8519        Baking Goods  108.1570            OUT045   \n",
      "8520  Health and Hygiene   85.1224            OUT035   \n",
      "8521         Snack Foods  103.1332            OUT018   \n",
      "8522         Soft Drinks   75.4670            OUT046   \n",
      "\n",
      "      Outlet_Establishment_Year Outlet_Size Outlet_Location_Type  \\\n",
      "8518                       1987        High               Tier 3   \n",
      "8519                       2002         NaN               Tier 2   \n",
      "8520                       2004       Small               Tier 2   \n",
      "8521                       2009      Medium               Tier 3   \n",
      "8522                       1997       Small               Tier 1   \n",
      "\n",
      "            Outlet_Type  Item_Outlet_Sales  \n",
      "8518  Supermarket Type1          2778.3834  \n",
      "8519  Supermarket Type1           549.2850  \n",
      "8520  Supermarket Type1          1193.1136  \n",
      "8521  Supermarket Type2          1845.5976  \n",
      "8522  Supermarket Type1           765.6700  \n",
      "Shape: (8523, 12)\n"
     ]
    }
   ],
   "source": [
    "# Summarize the Dataset\n",
    "print('df')\n",
    "print('Head')\n",
    "print(df.head())\n",
    "print('Tail')\n",
    "print(df.tail())\n",
    "print('Shape:', df.shape)"
   ]
  },
  {
   "cell_type": "code",
   "execution_count": 5,
   "metadata": {},
   "outputs": [
    {
     "name": "stdout",
     "output_type": "stream",
     "text": [
      "Missing data\n",
      "Item_Identifier                 0\n",
      "Item_Weight                  1463\n",
      "Item_Fat_Content                0\n",
      "Item_Visibility                 0\n",
      "Item_Type                       0\n",
      "Item_MRP                        0\n",
      "Outlet_Identifier               0\n",
      "Outlet_Establishment_Year       0\n",
      "Outlet_Size                  2410\n",
      "Outlet_Location_Type            0\n",
      "Outlet_Type                     0\n",
      "Item_Outlet_Sales               0\n",
      "dtype: int64\n",
      "Missing data in percentage\n",
      "Item_Identifier               0.00\n",
      "Item_Weight                  17.17\n",
      "Item_Fat_Content              0.00\n",
      "Item_Visibility               0.00\n",
      "Item_Type                     0.00\n",
      "Item_MRP                      0.00\n",
      "Outlet_Identifier             0.00\n",
      "Outlet_Establishment_Year     0.00\n",
      "Outlet_Size                  28.28\n",
      "Outlet_Location_Type          0.00\n",
      "Outlet_Type                   0.00\n",
      "Item_Outlet_Sales             0.00\n",
      "dtype: float64\n"
     ]
    }
   ],
   "source": [
    "# It contains 12 columns and 8523 rows.\n",
    "# Columns:\n",
    "# Item_Identifier :identifier of item\n",
    "# Item_Weight : the weight of item\n",
    "# Item_Fat_Content: item fat content\n",
    "# Item_Visibility : visibility of item\n",
    "# Item_Type: type of item (meat, fruits,...)\n",
    "# Item_MRP: Maximum retail price of item\n",
    "# Outlet_Identifier : identifier of the outlet\n",
    "# Outlet_Establishment_Year : Outlet Establishment Year\n",
    "# Outlet_Size: Size of the outlet\n",
    "# Outlet_Location_Type: Location of the outlet\n",
    "# Outlet_Type : type of outlet\n",
    "# Item_Outlet_Sales: the sales of each items in the different BigMart Outlet\n",
    "\n",
    "# We see if there is missing data\n",
    "print(\"Missing data\")\n",
    "print(df.isnull().sum())\n",
    "# In percentage\n",
    "print(\"Missing data in percentage\")\n",
    "print(round(df.isnull().sum()/df.shape[0]*100,2))"
   ]
  },
  {
   "cell_type": "code",
   "execution_count": 6,
   "metadata": {},
   "outputs": [
    {
     "data": {
      "text/plain": [
       "Item_Identifier               object\n",
       "Item_Weight                  float64\n",
       "Item_Fat_Content              object\n",
       "Item_Visibility              float64\n",
       "Item_Type                     object\n",
       "Item_MRP                     float64\n",
       "Outlet_Identifier             object\n",
       "Outlet_Establishment_Year      int64\n",
       "Outlet_Size                   object\n",
       "Outlet_Location_Type          object\n",
       "Outlet_Type                   object\n",
       "Item_Outlet_Sales            float64\n",
       "dtype: object"
      ]
     },
     "execution_count": 6,
     "metadata": {},
     "output_type": "execute_result"
    }
   ],
   "source": [
    "# Let's know the type of data\n",
    "df.dtypes"
   ]
  },
  {
   "cell_type": "code",
   "execution_count": 7,
   "metadata": {},
   "outputs": [
    {
     "data": {
      "text/html": [
       "<div>\n",
       "<style scoped>\n",
       "    .dataframe tbody tr th:only-of-type {\n",
       "        vertical-align: middle;\n",
       "    }\n",
       "\n",
       "    .dataframe tbody tr th {\n",
       "        vertical-align: top;\n",
       "    }\n",
       "\n",
       "    .dataframe thead th {\n",
       "        text-align: right;\n",
       "    }\n",
       "</style>\n",
       "<table border=\"1\" class=\"dataframe\">\n",
       "  <thead>\n",
       "    <tr style=\"text-align: right;\">\n",
       "      <th></th>\n",
       "      <th>Item_Weight</th>\n",
       "      <th>Item_Visibility</th>\n",
       "      <th>Item_MRP</th>\n",
       "      <th>Outlet_Establishment_Year</th>\n",
       "      <th>Item_Outlet_Sales</th>\n",
       "    </tr>\n",
       "  </thead>\n",
       "  <tbody>\n",
       "    <tr>\n",
       "      <th>count</th>\n",
       "      <td>7060.000000</td>\n",
       "      <td>8523.000000</td>\n",
       "      <td>8523.000000</td>\n",
       "      <td>8523.000000</td>\n",
       "      <td>8523.000000</td>\n",
       "    </tr>\n",
       "    <tr>\n",
       "      <th>mean</th>\n",
       "      <td>12.857645</td>\n",
       "      <td>0.066132</td>\n",
       "      <td>140.992782</td>\n",
       "      <td>1997.831867</td>\n",
       "      <td>2181.288914</td>\n",
       "    </tr>\n",
       "    <tr>\n",
       "      <th>std</th>\n",
       "      <td>4.643456</td>\n",
       "      <td>0.051598</td>\n",
       "      <td>62.275067</td>\n",
       "      <td>8.371760</td>\n",
       "      <td>1706.499616</td>\n",
       "    </tr>\n",
       "    <tr>\n",
       "      <th>min</th>\n",
       "      <td>4.555000</td>\n",
       "      <td>0.000000</td>\n",
       "      <td>31.290000</td>\n",
       "      <td>1985.000000</td>\n",
       "      <td>33.290000</td>\n",
       "    </tr>\n",
       "    <tr>\n",
       "      <th>25%</th>\n",
       "      <td>8.773750</td>\n",
       "      <td>0.026989</td>\n",
       "      <td>93.826500</td>\n",
       "      <td>1987.000000</td>\n",
       "      <td>834.247400</td>\n",
       "    </tr>\n",
       "    <tr>\n",
       "      <th>50%</th>\n",
       "      <td>12.600000</td>\n",
       "      <td>0.053931</td>\n",
       "      <td>143.012800</td>\n",
       "      <td>1999.000000</td>\n",
       "      <td>1794.331000</td>\n",
       "    </tr>\n",
       "    <tr>\n",
       "      <th>75%</th>\n",
       "      <td>16.850000</td>\n",
       "      <td>0.094585</td>\n",
       "      <td>185.643700</td>\n",
       "      <td>2004.000000</td>\n",
       "      <td>3101.296400</td>\n",
       "    </tr>\n",
       "    <tr>\n",
       "      <th>max</th>\n",
       "      <td>21.350000</td>\n",
       "      <td>0.328391</td>\n",
       "      <td>266.888400</td>\n",
       "      <td>2009.000000</td>\n",
       "      <td>13086.964800</td>\n",
       "    </tr>\n",
       "  </tbody>\n",
       "</table>\n",
       "</div>"
      ],
      "text/plain": [
       "       Item_Weight  Item_Visibility     Item_MRP  Outlet_Establishment_Year  \\\n",
       "count  7060.000000      8523.000000  8523.000000                8523.000000   \n",
       "mean     12.857645         0.066132   140.992782                1997.831867   \n",
       "std       4.643456         0.051598    62.275067                   8.371760   \n",
       "min       4.555000         0.000000    31.290000                1985.000000   \n",
       "25%       8.773750         0.026989    93.826500                1987.000000   \n",
       "50%      12.600000         0.053931   143.012800                1999.000000   \n",
       "75%      16.850000         0.094585   185.643700                2004.000000   \n",
       "max      21.350000         0.328391   266.888400                2009.000000   \n",
       "\n",
       "       Item_Outlet_Sales  \n",
       "count        8523.000000  \n",
       "mean         2181.288914  \n",
       "std          1706.499616  \n",
       "min            33.290000  \n",
       "25%           834.247400  \n",
       "50%          1794.331000  \n",
       "75%          3101.296400  \n",
       "max         13086.964800  "
      ]
     },
     "execution_count": 7,
     "metadata": {},
     "output_type": "execute_result"
    }
   ],
   "source": [
    "# Statistical analysis of the data\n",
    "# count: number of non-null data in column\n",
    "# mean: column mean value\n",
    "# std: column desviation standart \n",
    "# min: minimum column value\n",
    "# 25 %: percentile\n",
    "# 50 %: percentile\n",
    "# 75 %: percentile\n",
    "# max: maximum column value\n",
    "df.describe()"
   ]
  },
  {
   "cell_type": "code",
   "execution_count": 8,
   "metadata": {},
   "outputs": [],
   "source": [
    "# Categorical Features:\n",
    "\n",
    "# Item_Identifier\n",
    "# Item_Fat_Content\n",
    "# Item_Type\n",
    "# Outlet_Identifier\n",
    "# Outlet_Size\n",
    "# Outlet_Location_Type\n",
    "# Outlet_Type"
   ]
  },
  {
   "cell_type": "code",
   "execution_count": 9,
   "metadata": {},
   "outputs": [
    {
     "name": "stdout",
     "output_type": "stream",
     "text": [
      "Item_Fat_Content: ['Low Fat' 'Regular' 'low fat' 'LF' 'reg']\n",
      "Item_Type: ['Dairy' 'Soft Drinks' 'Meat' 'Fruits and Vegetables' 'Household'\n",
      " 'Baking Goods' 'Snack Foods' 'Frozen Foods' 'Breakfast'\n",
      " 'Health and Hygiene' 'Hard Drinks' 'Canned' 'Breads' 'Starchy Foods'\n",
      " 'Others' 'Seafood']\n",
      "Outlet_Size: ['Medium' nan 'High' 'Small']\n",
      "Outlet_Location_Type: ['Tier 1' 'Tier 3' 'Tier 2']\n",
      "Outlet_Type: ['Supermarket Type1' 'Supermarket Type2' 'Grocery Store'\n",
      " 'Supermarket Type3']\n"
     ]
    }
   ],
   "source": [
    "# Let's see the content of categorical features\n",
    "print('Item_Fat_Content:', df.Item_Fat_Content.unique())\n",
    "print('Item_Type:', df.Item_Type.unique())\n",
    "print('Outlet_Size:', df.Outlet_Size.unique())\n",
    "print('Outlet_Location_Type:', df.Outlet_Location_Type.unique())\n",
    "print('Outlet_Type:', df.Outlet_Type.unique())"
   ]
  },
  {
   "cell_type": "code",
   "execution_count": 10,
   "metadata": {},
   "outputs": [
    {
     "data": {
      "text/plain": [
       "12.857645184136183"
      ]
     },
     "execution_count": 10,
     "metadata": {},
     "output_type": "execute_result"
    }
   ],
   "source": [
    "# Handling Missing Values\n",
    "# The dataset contains null values in two columns: Item_Weight and Outlet_Size.\n",
    "# Let's fill them with the mean value (average value) and mode value (more repeated value).\n",
    "\n",
    "# Mean value of \"Item_Weight\" column\n",
    "df['Item_Weight'].mean()"
   ]
  },
  {
   "cell_type": "code",
   "execution_count": 11,
   "metadata": {},
   "outputs": [],
   "source": [
    "# Filling the missing values in \"Item_weight column\" with \"Mean\" value\n",
    "df['Item_Weight'].fillna(df['Item_Weight'].mean(), inplace=True)"
   ]
  },
  {
   "cell_type": "code",
   "execution_count": 12,
   "metadata": {},
   "outputs": [
    {
     "data": {
      "text/plain": [
       "0    Medium\n",
       "dtype: object"
      ]
     },
     "execution_count": 12,
     "metadata": {},
     "output_type": "execute_result"
    }
   ],
   "source": [
    "# Mode of \"Outlet_Size\" column\n",
    "df['Outlet_Size'].mode()"
   ]
  },
  {
   "cell_type": "code",
   "execution_count": 13,
   "metadata": {},
   "outputs": [
    {
     "name": "stdout",
     "output_type": "stream",
     "text": [
      "Outlet_Type Grocery Store Supermarket Type1 Supermarket Type2  \\\n",
      "Outlet_Size         Small             Small            Medium   \n",
      "\n",
      "Outlet_Type Supermarket Type3  \n",
      "Outlet_Size            Medium  \n"
     ]
    }
   ],
   "source": [
    "# Filling the missing values in \"Outlet_Size\" column with Mode\n",
    "mode_of_Outlet_size = df.pivot_table(values='Outlet_Size', columns='Outlet_Type', aggfunc=(lambda x: x.mode()[0]))\n",
    "print(mode_of_Outlet_size)"
   ]
  },
  {
   "cell_type": "code",
   "execution_count": 14,
   "metadata": {},
   "outputs": [
    {
     "name": "stdout",
     "output_type": "stream",
     "text": [
      "0       False\n",
      "1       False\n",
      "2       False\n",
      "3        True\n",
      "4       False\n",
      "        ...  \n",
      "8518    False\n",
      "8519     True\n",
      "8520    False\n",
      "8521    False\n",
      "8522    False\n",
      "Name: Outlet_Size, Length: 8523, dtype: bool\n"
     ]
    }
   ],
   "source": [
    "miss_values = df['Outlet_Size'].isnull()   \n",
    "print(miss_values)"
   ]
  },
  {
   "cell_type": "code",
   "execution_count": 15,
   "metadata": {},
   "outputs": [],
   "source": [
    "df.loc[miss_values, 'Outlet_Size'] = df.loc[miss_values,'Outlet_Type'].apply(lambda x: mode_of_Outlet_size[x])"
   ]
  },
  {
   "cell_type": "code",
   "execution_count": 16,
   "metadata": {},
   "outputs": [
    {
     "data": {
      "text/plain": [
       "Item_Identifier              0\n",
       "Item_Weight                  0\n",
       "Item_Fat_Content             0\n",
       "Item_Visibility              0\n",
       "Item_Type                    0\n",
       "Item_MRP                     0\n",
       "Outlet_Identifier            0\n",
       "Outlet_Establishment_Year    0\n",
       "Outlet_Size                  0\n",
       "Outlet_Location_Type         0\n",
       "Outlet_Type                  0\n",
       "Item_Outlet_Sales            0\n",
       "dtype: int64"
      ]
     },
     "execution_count": 16,
     "metadata": {},
     "output_type": "execute_result"
    }
   ],
   "source": [
    "# Checking for missing values\n",
    "df.isnull().sum()"
   ]
  },
  {
   "cell_type": "code",
   "execution_count": 17,
   "metadata": {},
   "outputs": [
    {
     "data": {
      "text/html": [
       "<div>\n",
       "<style scoped>\n",
       "    .dataframe tbody tr th:only-of-type {\n",
       "        vertical-align: middle;\n",
       "    }\n",
       "\n",
       "    .dataframe tbody tr th {\n",
       "        vertical-align: top;\n",
       "    }\n",
       "\n",
       "    .dataframe thead th {\n",
       "        text-align: right;\n",
       "    }\n",
       "</style>\n",
       "<table border=\"1\" class=\"dataframe\">\n",
       "  <thead>\n",
       "    <tr style=\"text-align: right;\">\n",
       "      <th></th>\n",
       "      <th>Item_Weight</th>\n",
       "      <th>Item_Visibility</th>\n",
       "      <th>Item_MRP</th>\n",
       "      <th>Outlet_Establishment_Year</th>\n",
       "      <th>Item_Outlet_Sales</th>\n",
       "    </tr>\n",
       "  </thead>\n",
       "  <tbody>\n",
       "    <tr>\n",
       "      <th>count</th>\n",
       "      <td>8523.000000</td>\n",
       "      <td>8523.000000</td>\n",
       "      <td>8523.000000</td>\n",
       "      <td>8523.000000</td>\n",
       "      <td>8523.000000</td>\n",
       "    </tr>\n",
       "    <tr>\n",
       "      <th>mean</th>\n",
       "      <td>12.857645</td>\n",
       "      <td>0.066132</td>\n",
       "      <td>140.992782</td>\n",
       "      <td>1997.831867</td>\n",
       "      <td>2181.288914</td>\n",
       "    </tr>\n",
       "    <tr>\n",
       "      <th>std</th>\n",
       "      <td>4.226124</td>\n",
       "      <td>0.051598</td>\n",
       "      <td>62.275067</td>\n",
       "      <td>8.371760</td>\n",
       "      <td>1706.499616</td>\n",
       "    </tr>\n",
       "    <tr>\n",
       "      <th>min</th>\n",
       "      <td>4.555000</td>\n",
       "      <td>0.000000</td>\n",
       "      <td>31.290000</td>\n",
       "      <td>1985.000000</td>\n",
       "      <td>33.290000</td>\n",
       "    </tr>\n",
       "    <tr>\n",
       "      <th>25%</th>\n",
       "      <td>9.310000</td>\n",
       "      <td>0.026989</td>\n",
       "      <td>93.826500</td>\n",
       "      <td>1987.000000</td>\n",
       "      <td>834.247400</td>\n",
       "    </tr>\n",
       "    <tr>\n",
       "      <th>50%</th>\n",
       "      <td>12.857645</td>\n",
       "      <td>0.053931</td>\n",
       "      <td>143.012800</td>\n",
       "      <td>1999.000000</td>\n",
       "      <td>1794.331000</td>\n",
       "    </tr>\n",
       "    <tr>\n",
       "      <th>75%</th>\n",
       "      <td>16.000000</td>\n",
       "      <td>0.094585</td>\n",
       "      <td>185.643700</td>\n",
       "      <td>2004.000000</td>\n",
       "      <td>3101.296400</td>\n",
       "    </tr>\n",
       "    <tr>\n",
       "      <th>max</th>\n",
       "      <td>21.350000</td>\n",
       "      <td>0.328391</td>\n",
       "      <td>266.888400</td>\n",
       "      <td>2009.000000</td>\n",
       "      <td>13086.964800</td>\n",
       "    </tr>\n",
       "  </tbody>\n",
       "</table>\n",
       "</div>"
      ],
      "text/plain": [
       "       Item_Weight  Item_Visibility     Item_MRP  Outlet_Establishment_Year  \\\n",
       "count  8523.000000      8523.000000  8523.000000                8523.000000   \n",
       "mean     12.857645         0.066132   140.992782                1997.831867   \n",
       "std       4.226124         0.051598    62.275067                   8.371760   \n",
       "min       4.555000         0.000000    31.290000                1985.000000   \n",
       "25%       9.310000         0.026989    93.826500                1987.000000   \n",
       "50%      12.857645         0.053931   143.012800                1999.000000   \n",
       "75%      16.000000         0.094585   185.643700                2004.000000   \n",
       "max      21.350000         0.328391   266.888400                2009.000000   \n",
       "\n",
       "       Item_Outlet_Sales  \n",
       "count        8523.000000  \n",
       "mean         2181.288914  \n",
       "std          1706.499616  \n",
       "min            33.290000  \n",
       "25%           834.247400  \n",
       "50%          1794.331000  \n",
       "75%          3101.296400  \n",
       "max         13086.964800  "
      ]
     },
     "execution_count": 17,
     "metadata": {},
     "output_type": "execute_result"
    }
   ],
   "source": [
    "df.describe()"
   ]
  },
  {
   "cell_type": "code",
   "execution_count": 18,
   "metadata": {},
   "outputs": [],
   "source": [
    "# DATA ANALYSIS"
   ]
  },
  {
   "cell_type": "code",
   "execution_count": 19,
   "metadata": {},
   "outputs": [
    {
     "data": {
      "image/png": "[encoded data removed]",
      "text/plain": [
       "<Figure size 432x432 with 1 Axes>"
      ]
     },
     "metadata": {
      "needs_background": "light"
     },
     "output_type": "display_data"
    }
   ],
   "source": [
    "# Item_Fat_Content \n",
    "plt.figure(figsize=(6,6))\n",
    "sns.countplot(x='Item_Fat_Content', data=df)\n",
    "plt.savefig('Item_Fat_Content.jpg')\n",
    "plt.show()"
   ]
  },
  {
   "cell_type": "code",
   "execution_count": 20,
   "metadata": {},
   "outputs": [
    {
     "data": {
      "text/plain": [
       "array(['Low Fat', 'Regular', 'low fat', 'LF', 'reg'], dtype=object)"
      ]
     },
     "execution_count": 20,
     "metadata": {},
     "output_type": "execute_result"
    }
   ],
   "source": [
    "# There are repeating elements with different names\n",
    "# Let's reduce them to just two.\n",
    "df[\"Item_Fat_Content\"].unique()"
   ]
  },
  {
   "cell_type": "code",
   "execution_count": 21,
   "metadata": {},
   "outputs": [],
   "source": [
    "fat_content = {\"low fat\": \"Low Fat\",\n",
    "               \"LF\": \"Low Fat\",\n",
    "               \"reg\":\"Regular\"}\n",
    "df[\"Item_Fat_Content\"]= df[\"Item_Fat_Content\"].replace(fat_content)"
   ]
  },
  {
   "cell_type": "code",
   "execution_count": 22,
   "metadata": {},
   "outputs": [
    {
     "data": {
      "text/plain": [
       "array(['Low Fat', 'Regular'], dtype=object)"
      ]
     },
     "execution_count": 22,
     "metadata": {},
     "output_type": "execute_result"
    }
   ],
   "source": [
    "df[\"Item_Fat_Content\"].unique()"
   ]
  },
  {
   "cell_type": "code",
   "execution_count": 23,
   "metadata": {},
   "outputs": [
    {
     "data": {
      "image/png": "[encoded data removed]",
      "text/plain": [
       "<Figure size 432x432 with 1 Axes>"
      ]
     },
     "metadata": {
      "needs_background": "light"
     },
     "output_type": "display_data"
    }
   ],
   "source": [
    "plt.figure(figsize=(6,6))\n",
    "sns.countplot(x='Item_Fat_Content', data=df)\n",
    "plt.savefig('Item_Fat_Content.jpg')\n",
    "plt.show()"
   ]
  },
  {
   "cell_type": "code",
   "execution_count": 24,
   "metadata": {},
   "outputs": [
    {
     "data": {
      "image/png": "[encoded data removed]",
      "text/plain": [
       "<Figure size 1800x432 with 1 Axes>"
      ]
     },
     "metadata": {
      "needs_background": "light"
     },
     "output_type": "display_data"
    }
   ],
   "source": [
    "# Item_Type \n",
    "plt.figure(figsize=(25,6))\n",
    "sns.countplot(x='Item_Type', data=df)\n",
    "plt.savefig('Item_Type.jpg', dpi=300)\n",
    "plt.show()"
   ]
  },
  {
   "cell_type": "code",
   "execution_count": 25,
   "metadata": {},
   "outputs": [
    {
     "data": {
      "image/png": "[encoded data removed]",
      "text/plain": [
       "<Figure size 1152x432 with 1 Axes>"
      ]
     },
     "metadata": {
      "needs_background": "light"
     },
     "output_type": "display_data"
    }
   ],
   "source": [
    "# Outlet Identifier\n",
    "plt.figure(figsize=(16,6))\n",
    "sns.countplot(x='Outlet_Identifier', data=df)\n",
    "plt.savefig('Outlet_Identifier.jpg', dpi=300)\n",
    "plt.show()"
   ]
  },
  {
   "cell_type": "code",
   "execution_count": 26,
   "metadata": {},
   "outputs": [
    {
     "data": {
      "image/png": "[encoded data removed]",
      "text/plain": [
       "<Figure size 432x432 with 1 Axes>"
      ]
     },
     "metadata": {
      "needs_background": "light"
     },
     "output_type": "display_data"
    }
   ],
   "source": [
    "# Outlet_Size \n",
    "plt.figure(figsize=(6,6))\n",
    "sns.countplot(x='Outlet_Size', data=df)\n",
    "plt.savefig('Outlet_Size.jpg')\n",
    "plt.show()"
   ]
  },
  {
   "cell_type": "code",
   "execution_count": 27,
   "metadata": {},
   "outputs": [
    {
     "data": {
      "image/png": "[encoded data removed]",
      "text/plain": [
       "<Figure size 432x288 with 1 Axes>"
      ]
     },
     "metadata": {
      "needs_background": "light"
     },
     "output_type": "display_data"
    }
   ],
   "source": [
    "sns.barplot(y='Item_Outlet_Sales',x='Outlet_Type',data=df);\n",
    "plt.xticks(rotation = 90)\n",
    "plt.savefig('Item_Outlet_Sales_VS_Outlet_Type.jpg')\n",
    "plt.show()"
   ]
  },
  {
   "cell_type": "code",
   "execution_count": 28,
   "metadata": {},
   "outputs": [
    {
     "data": {
      "image/png": "[encoded data removed]",
      "text/plain": [
       "<Figure size 432x432 with 1 Axes>"
      ]
     },
     "metadata": {
      "needs_background": "light"
     },
     "output_type": "display_data"
    }
   ],
   "source": [
    "# Outlet_Location_Type\n",
    "plt.figure(figsize=(6,6))\n",
    "sns.countplot(x='Outlet_Location_Type', data=df)\n",
    "plt.savefig('Outlet_Location_Type.jpg')\n",
    "plt.show()"
   ]
  },
  {
   "cell_type": "code",
   "execution_count": 29,
   "metadata": {},
   "outputs": [
    {
     "data": {
      "image/png": "[encoded data removed]",
      "text/plain": [
       "<Figure size 432x360 with 2 Axes>"
      ]
     },
     "metadata": {
      "needs_background": "light"
     },
     "output_type": "display_data"
    }
   ],
   "source": [
    "# Correlation\n",
    "\n",
    "corr = df.corr()\n",
    "\n",
    "plt.figure(figsize = (6,5))\n",
    "sns.heatmap(corr,\n",
    "            xticklabels=corr.columns.values,\n",
    "            yticklabels=corr.columns.values,\n",
    "            annot=True,fmt='.2f',linewidths=0.30)\n",
    "plt.title('Correlation of df Features', y = 1.05, size=15)\n",
    "plt.savefig('Correlation.jpg')\n",
    "plt.show()"
   ]
  },
  {
   "cell_type": "code",
   "execution_count": 30,
   "metadata": {},
   "outputs": [
    {
     "name": "stderr",
     "output_type": "stream",
     "text": [
      "C:\\Users\\dario\\anaconda3\\lib\\site-packages\\seaborn\\distributions.py:2551: FutureWarning: `distplot` is a deprecated function and will be removed in a future version. Please adapt your code to use either `displot` (a figure-level function with similar flexibility) or `histplot` (an axes-level function for histograms).\n",
      "  warnings.warn(msg, FutureWarning)\n"
     ]
    },
    {
     "data": {
      "image/png": "[encoded data removed]",
      "text/plain": [
       "<Figure size 432x432 with 1 Axes>"
      ]
     },
     "metadata": {
      "needs_background": "light"
     },
     "output_type": "display_data"
    }
   ],
   "source": [
    "# Item_Weight distribution\n",
    "plt.figure(figsize=(6,6))\n",
    "sns.distplot(df['Item_Weight'], color='green', kde_kws={\"color\": \"k\"})\n",
    "plt.savefig('Item_Weight_dist.jpg')\n",
    "plt.show()"
   ]
  },
  {
   "cell_type": "code",
   "execution_count": 31,
   "metadata": {},
   "outputs": [
    {
     "name": "stderr",
     "output_type": "stream",
     "text": [
      "C:\\Users\\dario\\anaconda3\\lib\\site-packages\\seaborn\\distributions.py:2551: FutureWarning: `distplot` is a deprecated function and will be removed in a future version. Please adapt your code to use either `displot` (a figure-level function with similar flexibility) or `histplot` (an axes-level function for histograms).\n",
      "  warnings.warn(msg, FutureWarning)\n"
     ]
    },
    {
     "data": {
      "image/png": "[encoded data removed]",
      "text/plain": [
       "<Figure size 432x432 with 1 Axes>"
      ]
     },
     "metadata": {
      "needs_background": "light"
     },
     "output_type": "display_data"
    }
   ],
   "source": [
    "# Item Visibility distribution\n",
    "plt.figure(figsize=(6,6))\n",
    "sns.distplot(df['Item_Visibility'], color='green', kde_kws={\"color\": \"k\"})\n",
    "plt.savefig('Item_Visibility_dist.jpg')\n",
    "plt.show()"
   ]
  },
  {
   "cell_type": "code",
   "execution_count": 32,
   "metadata": {},
   "outputs": [
    {
     "name": "stderr",
     "output_type": "stream",
     "text": [
      "C:\\Users\\dario\\anaconda3\\lib\\site-packages\\seaborn\\distributions.py:2551: FutureWarning: `distplot` is a deprecated function and will be removed in a future version. Please adapt your code to use either `displot` (a figure-level function with similar flexibility) or `histplot` (an axes-level function for histograms).\n",
      "  warnings.warn(msg, FutureWarning)\n"
     ]
    },
    {
     "data": {
      "image/png": "[encoded data removed]",
      "text/plain": [
       "<Figure size 432x432 with 1 Axes>"
      ]
     },
     "metadata": {
      "needs_background": "light"
     },
     "output_type": "display_data"
    }
   ],
   "source": [
    "# Item MRP distribution\n",
    "plt.figure(figsize=(6,6))\n",
    "sns.distplot(df['Item_MRP'], color='green', kde_kws={\"color\": \"k\"})\n",
    "plt.savefig('Item_MRP_dist.jpg')\n",
    "plt.show()"
   ]
  },
  {
   "cell_type": "code",
   "execution_count": 33,
   "metadata": {},
   "outputs": [
    {
     "name": "stderr",
     "output_type": "stream",
     "text": [
      "C:\\Users\\dario\\anaconda3\\lib\\site-packages\\seaborn\\distributions.py:2551: FutureWarning: `distplot` is a deprecated function and will be removed in a future version. Please adapt your code to use either `displot` (a figure-level function with similar flexibility) or `histplot` (an axes-level function for histograms).\n",
      "  warnings.warn(msg, FutureWarning)\n"
     ]
    },
    {
     "data": {
      "image/png": "[encoded data removed]",
      "text/plain": [
       "<Figure size 432x432 with 1 Axes>"
      ]
     },
     "metadata": {
      "needs_background": "light"
     },
     "output_type": "display_data"
    }
   ],
   "source": [
    "# Item_Outlet_Sales distribution\n",
    "plt.figure(figsize=(6,6))\n",
    "sns.distplot(df['Item_Outlet_Sales'], color='green', kde_kws={\"color\": \"k\"})\n",
    "plt.savefig('Item_Outlet_Sales_dist.jpg')\n",
    "plt.show()"
   ]
  },
  {
   "cell_type": "code",
   "execution_count": 34,
   "metadata": {},
   "outputs": [
    {
     "data": {
      "image/png": "[encoded data removed]",
      "text/plain": [
       "<Figure size 432x432 with 1 Axes>"
      ]
     },
     "metadata": {
      "needs_background": "light"
     },
     "output_type": "display_data"
    }
   ],
   "source": [
    "# Outlet_Establishment_Year column\n",
    "plt.figure(figsize=(6,6))\n",
    "sns.countplot(x='Outlet_Establishment_Year', data=df)\n",
    "plt.savefig('Outlet_Establishment_Year.jpg')\n",
    "plt.show()"
   ]
  },
  {
   "cell_type": "code",
   "execution_count": 35,
   "metadata": {},
   "outputs": [],
   "source": [
    "# Label Encoding\n",
    "\n",
    "encoder = LabelEncoder()\n",
    "\n",
    "df['Item_Identifier'] = encoder.fit_transform(df['Item_Identifier'])\n",
    "df['Item_Fat_Content'] = encoder.fit_transform(df['Item_Fat_Content'])\n",
    "df['Item_Type'] = encoder.fit_transform(df['Item_Type'])\n",
    "df['Outlet_Identifier'] = encoder.fit_transform(df['Outlet_Identifier'])\n",
    "df['Outlet_Size'] = encoder.fit_transform(df['Outlet_Size'])\n",
    "df['Outlet_Location_Type'] = encoder.fit_transform(df['Outlet_Location_Type'])\n",
    "df['Outlet_Type'] = encoder.fit_transform(df['Outlet_Type'])"
   ]
  },
  {
   "cell_type": "code",
   "execution_count": 36,
   "metadata": {},
   "outputs": [
    {
     "data": {
      "text/html": [
       "<div>\n",
       "<style scoped>\n",
       "    .dataframe tbody tr th:only-of-type {\n",
       "        vertical-align: middle;\n",
       "    }\n",
       "\n",
       "    .dataframe tbody tr th {\n",
       "        vertical-align: top;\n",
       "    }\n",
       "\n",
       "    .dataframe thead th {\n",
       "        text-align: right;\n",
       "    }\n",
       "</style>\n",
       "<table border=\"1\" class=\"dataframe\">\n",
       "  <thead>\n",
       "    <tr style=\"text-align: right;\">\n",
       "      <th></th>\n",
       "      <th>Item_Identifier</th>\n",
       "      <th>Item_Weight</th>\n",
       "      <th>Item_Fat_Content</th>\n",
       "      <th>Item_Visibility</th>\n",
       "      <th>Item_Type</th>\n",
       "      <th>Item_MRP</th>\n",
       "      <th>Outlet_Identifier</th>\n",
       "      <th>Outlet_Establishment_Year</th>\n",
       "      <th>Outlet_Size</th>\n",
       "      <th>Outlet_Location_Type</th>\n",
       "      <th>Outlet_Type</th>\n",
       "      <th>Item_Outlet_Sales</th>\n",
       "    </tr>\n",
       "  </thead>\n",
       "  <tbody>\n",
       "    <tr>\n",
       "      <th>0</th>\n",
       "      <td>156</td>\n",
       "      <td>9.30</td>\n",
       "      <td>0</td>\n",
       "      <td>0.016047</td>\n",
       "      <td>4</td>\n",
       "      <td>249.8092</td>\n",
       "      <td>9</td>\n",
       "      <td>1999</td>\n",
       "      <td>1</td>\n",
       "      <td>0</td>\n",
       "      <td>1</td>\n",
       "      <td>3735.1380</td>\n",
       "    </tr>\n",
       "    <tr>\n",
       "      <th>1</th>\n",
       "      <td>8</td>\n",
       "      <td>5.92</td>\n",
       "      <td>1</td>\n",
       "      <td>0.019278</td>\n",
       "      <td>14</td>\n",
       "      <td>48.2692</td>\n",
       "      <td>3</td>\n",
       "      <td>2009</td>\n",
       "      <td>1</td>\n",
       "      <td>2</td>\n",
       "      <td>2</td>\n",
       "      <td>443.4228</td>\n",
       "    </tr>\n",
       "    <tr>\n",
       "      <th>2</th>\n",
       "      <td>662</td>\n",
       "      <td>17.50</td>\n",
       "      <td>0</td>\n",
       "      <td>0.016760</td>\n",
       "      <td>10</td>\n",
       "      <td>141.6180</td>\n",
       "      <td>9</td>\n",
       "      <td>1999</td>\n",
       "      <td>1</td>\n",
       "      <td>0</td>\n",
       "      <td>1</td>\n",
       "      <td>2097.2700</td>\n",
       "    </tr>\n",
       "    <tr>\n",
       "      <th>3</th>\n",
       "      <td>1121</td>\n",
       "      <td>19.20</td>\n",
       "      <td>1</td>\n",
       "      <td>0.000000</td>\n",
       "      <td>6</td>\n",
       "      <td>182.0950</td>\n",
       "      <td>0</td>\n",
       "      <td>1998</td>\n",
       "      <td>2</td>\n",
       "      <td>2</td>\n",
       "      <td>0</td>\n",
       "      <td>732.3800</td>\n",
       "    </tr>\n",
       "    <tr>\n",
       "      <th>4</th>\n",
       "      <td>1297</td>\n",
       "      <td>8.93</td>\n",
       "      <td>0</td>\n",
       "      <td>0.000000</td>\n",
       "      <td>9</td>\n",
       "      <td>53.8614</td>\n",
       "      <td>1</td>\n",
       "      <td>1987</td>\n",
       "      <td>0</td>\n",
       "      <td>2</td>\n",
       "      <td>1</td>\n",
       "      <td>994.7052</td>\n",
       "    </tr>\n",
       "  </tbody>\n",
       "</table>\n",
       "</div>"
      ],
      "text/plain": [
       "   Item_Identifier  Item_Weight  Item_Fat_Content  Item_Visibility  Item_Type  \\\n",
       "0              156         9.30                 0         0.016047          4   \n",
       "1                8         5.92                 1         0.019278         14   \n",
       "2              662        17.50                 0         0.016760         10   \n",
       "3             1121        19.20                 1         0.000000          6   \n",
       "4             1297         8.93                 0         0.000000          9   \n",
       "\n",
       "   Item_MRP  Outlet_Identifier  Outlet_Establishment_Year  Outlet_Size  \\\n",
       "0  249.8092                  9                       1999            1   \n",
       "1   48.2692                  3                       2009            1   \n",
       "2  141.6180                  9                       1999            1   \n",
       "3  182.0950                  0                       1998            2   \n",
       "4   53.8614                  1                       1987            0   \n",
       "\n",
       "   Outlet_Location_Type  Outlet_Type  Item_Outlet_Sales  \n",
       "0                     0            1          3735.1380  \n",
       "1                     2            2           443.4228  \n",
       "2                     0            1          2097.2700  \n",
       "3                     2            0           732.3800  \n",
       "4                     2            1           994.7052  "
      ]
     },
     "execution_count": 36,
     "metadata": {},
     "output_type": "execute_result"
    }
   ],
   "source": [
    "df.head()"
   ]
  },
  {
   "cell_type": "code",
   "execution_count": 37,
   "metadata": {},
   "outputs": [],
   "source": [
    "# Split the Features and Target\n",
    "X = df.drop(columns='Item_Outlet_Sales', axis=1)\n",
    "Y = df['Item_Outlet_Sales']"
   ]
  },
  {
   "cell_type": "code",
   "execution_count": 38,
   "metadata": {},
   "outputs": [],
   "source": [
    "# Create Training data and Test Data\n",
    "X_train, X_test, Y_train, Y_test = train_test_split(X, Y, test_size = 0.2, random_state=2)"
   ]
  },
  {
   "cell_type": "code",
   "execution_count": 39,
   "metadata": {},
   "outputs": [
    {
     "data": {
      "text/plain": [
       "XGBRegressor(base_score=0.5, booster='gbtree', colsample_bylevel=1,\n",
       "             colsample_bynode=1, colsample_bytree=1, enable_categorical=False,\n",
       "             eta=0.1, gamma=0, gpu_id=-1, importance_type=None,\n",
       "             interaction_constraints='', learning_rate=0.100000001,\n",
       "             max_delta_step=0, max_depth=3, min_child_weight=1, missing=nan,\n",
       "             monotone_constraints='()', n_estimators=100, n_jobs=4,\n",
       "             num_parallel_tree=1, predictor='auto', random_state=0, reg_alpha=0,\n",
       "             reg_lambda=1, scale_pos_weight=1, subsample=1, tree_method='exact',\n",
       "             validate_parameters=1, verbosity=None)"
      ]
     },
     "execution_count": 39,
     "metadata": {},
     "output_type": "execute_result"
    }
   ],
   "source": [
    "# Machine Learning using XGBoost Regressor\n",
    "XGBR = XGBRegressor(n_estimators=100, max_depth=3, eta=0.1, subsample=1)\n",
    "XGBR.fit(X_train, Y_train)"
   ]
  },
  {
   "cell_type": "code",
   "execution_count": 40,
   "metadata": {},
   "outputs": [
    {
     "name": "stdout",
     "output_type": "stream",
     "text": [
      "R Squared value =  0.636445703064965\n"
     ]
    }
   ],
   "source": [
    "# Prediction on training data\n",
    "training_data_prediction = XGBR.predict(X_train)\n",
    "\n",
    "# R squared Value\n",
    "r2_train = metrics.r2_score(Y_train, training_data_prediction)\n",
    "\n",
    "print('R Squared value = ', r2_train)"
   ]
  },
  {
   "cell_type": "code",
   "execution_count": 41,
   "metadata": {},
   "outputs": [
    {
     "name": "stdout",
     "output_type": "stream",
     "text": [
      "R Squared value =  0.5867640905080416\n"
     ]
    }
   ],
   "source": [
    "# Prediction on test data\n",
    "test_data_prediction = XGBR.predict(X_test)\n",
    "\n",
    "# R squared Value\n",
    "r2_test = metrics.r2_score(Y_test, test_data_prediction)\n",
    "\n",
    "print('R Squared value = ', r2_test)"
   ]
  },
  {
   "cell_type": "code",
   "execution_count": null,
   "metadata": {},
   "outputs": [],
   "source": []
  }
 ],
 "metadata": {
  "kernelspec": {
   "display_name": "Python 3",
   "language": "python",
   "name": "python3"
  },
  "language_info": {
   "codemirror_mode": {
    "name": "ipython",
    "version": 3
   },
   "file_extension": ".py",
   "mimetype": "text/x-python",
   "name": "python",
   "nbconvert_exporter": "python",
   "pygments_lexer": "ipython3",
   "version": "3.8.5"
  }
 },
 "nbformat": 4,
 "nbformat_minor": 4
}
